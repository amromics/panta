{
 "cells": [
  {
   "cell_type": "code",
   "execution_count": 1,
   "metadata": {},
   "outputs": [],
   "source": [
    "import os\n",
    "import datetime\n",
    "import time\n",
    "import matplotlib.pyplot as plt\n"
   ]
  },
  {
   "cell_type": "code",
   "execution_count": 2,
   "metadata": {},
   "outputs": [],
   "source": [
    "\n",
    "list_time=[]\n",
    "list_ram=[]"
   ]
  },
  {
   "cell_type": "code",
   "execution_count": 3,
   "metadata": {},
   "outputs": [],
   "source": [
    "list_file=[]\n",
    "list_label=[]\n",
    "#list_file.append('run-cdhit-sp60-i70.txt')\n",
    "#list_file.append('run-mm-cluster-sp60-i70.txt')\n",
    "#list_file.append('run-mm-linclust-sp60-i70.txt')\n",
    "#list_file.append('run-diamond-cluster-sp60-i70.txt')\n",
    "#list_file.append('run-diamond-lincluster-sp60-i70.txt')\n",
    "#list_file.append('run-mm-linclust-sp600-i70.txt')\n",
    "#list_file.append('run-diamond-lincluster-sp600-i70.txt')\n",
    "#list_file.append('run-diamond-deepcluster-sp600-i70.txt')\n",
    "#list_file.append('run-pan-sp60.txt')\n",
    "#list_label.append('pan sp60')\n",
    "#replace cdhit -> mmseq lincluster\n",
    "#list_file.append('run-pan-mmseq-lincluster-sp60.txt')\n",
    "#list_label.append('pan mmseq lincluster sp60')\n",
    "#list_file.append('run-pan-diamond-linclust-nogroup-sp60.txt')\n",
    "#list_label.append('pan diamond lincluster nogroup sp60')\n",
    "#list_file.append('run-pan-sp600.txt')\n",
    "#list_label.append('panta sp600')\n",
    "#list_file.append('run-pan-diamond-linclust-nogroup-sp600.txt')\n",
    "#list_label.append('an diamond lincluster nogroup sp600')\n",
    "#list_file.append('run-a_diamond_c_mcl-sp600.txt')\n",
    "list_file.append('run-g_cdhit_a_diamond_c_mcl-sp600.txt')\n",
    "list_file.append('run-g_diamond_a_diamond_c_mcl-sp600.txt')\n",
    "list_file.append('run-g_mmseq_a_diamond_c_mcl-sp600.txt')\n",
    "list_file.append('run-c_mmseq-sp600.txt')\n",
    "list_file.append('run-c_diamond-sp600.txt')"
   ]
  },
  {
   "cell_type": "code",
   "execution_count": 4,
   "metadata": {},
   "outputs": [],
   "source": [
    "#parse result text files:\n",
    "\n",
    "def parseResultFile(text_file):\n",
    "    time_duration=0\n",
    "    ram_maximum=0\n",
    "    file1 = open(text_file, 'r')\n",
    "    lines = file1.readlines()\n",
    "    \n",
    "    for line in lines:\n",
    "\n",
    "        if line.strip().startswith('Elapsed (wall clock) time (h:mm:ss or m:ss):'):\n",
    "            time_str=line.replace('Elapsed (wall clock) time (h:mm:ss or m:ss):','').strip()\n",
    "            print(time_str)\n",
    "            if time_str.count(':')>1:\n",
    "                x = time.strptime(time_str.split('.')[0],'%H:%M:%S')\n",
    "            else:\n",
    "                x = time.strptime(time_str.split('.')[0],'%M:%S')\n",
    "            time_duration=datetime.timedelta(hours=x.tm_hour,minutes=x.tm_min,seconds=x.tm_sec).total_seconds()\n",
    "        if line.strip().startswith('Maximum resident set size (kbytes):'):\n",
    "            ram_str=line.replace('Maximum resident set size (kbytes):','').strip()\n",
    "            ram_maximum=int(ram_str)\n",
    "    return time_duration,ram_maximum"
   ]
  },
  {
   "cell_type": "code",
   "execution_count": 5,
   "metadata": {},
   "outputs": [
    {
     "name": "stdout",
     "output_type": "stream",
     "text": [
      "6:30.22\n",
      "5:44.71\n",
      "run-g_cdhit_a_diamond_c_mcl-sp600.txt:344.0,852564\n",
      "17:25.12\n",
      "24:30.83\n",
      "run-g_diamond_a_diamond_c_mcl-sp600.txt:1470.0,3098576\n",
      "5:20.36\n",
      "5:19.89\n",
      "run-g_mmseq_a_diamond_c_mcl-sp600.txt:319.0,1115312\n",
      "3:03.85\n",
      "3:26.93\n",
      "run-c_mmseq-sp600.txt:206.0,1114224\n",
      "4:45.25\n",
      "run-c_diamond-sp600.txt:285.0,1714632\n"
     ]
    }
   ],
   "source": [
    "for f in list_file:\n",
    "    t,r=parseResultFile(f)\n",
    "    print(f+\":\"+str(t)+\",\"+str(r))\n",
    "    list_time.append(t)\n",
    "    list_ram.append(r)\n",
    "    "
   ]
  },
  {
   "cell_type": "code",
   "execution_count": 6,
   "metadata": {},
   "outputs": [],
   "source": [
    "def plotData(data1,label, ylabel, title):\n",
    "    \n",
    " \n",
    "    # heights of bars\n",
    "    height = data1\n",
    " \n",
    "    # labels for bars\n",
    "    tick_label = label\n",
    " \n",
    "    # plotting a bar chart\n",
    "    plt.bar(tick_label, height, color ='maroon', \n",
    "        width = 0.4)\n",
    " \n",
    "    # naming the x-axis\n",
    "    plt.xlabel('Runs')\n",
    "    # naming the y-axis\n",
    "    plt.ylabel(ylabel)\n",
    "    # plot title\n",
    "    plt.title(title)\n",
    " \n",
    "    # function to show the plot\n",
    "    plt.show()"
   ]
  },
  {
   "cell_type": "code",
   "execution_count": 7,
   "metadata": {},
   "outputs": [
    {
     "data": {
      "image/png": "[encoded data removed]",
      "text/plain": [
       "<Figure size 432x288 with 1 Axes>"
      ]
     },
     "metadata": {
      "needs_background": "light"
     },
     "output_type": "display_data"
    },
    {
     "data": {
      "image/png": "[encoded data removed]",
      "text/plain": [
       "<Figure size 432x288 with 1 Axes>"
      ]
     },
     "metadata": {
      "needs_background": "light"
     },
     "output_type": "display_data"
    }
   ],
   "source": [
    "plotData(list_time,[1,2,3,4,5],\"Seconds\", \"Elapsed time\")\n",
    "plotData(list_ram,[1,2,3,4,5],\"Bytes\", \"Memory\")"
   ]
  }
 ],
 "metadata": {
  "kernelspec": {
   "display_name": "Python 3",
   "language": "python",
   "name": "python3"
  },
  "language_info": {
   "codemirror_mode": {
    "name": "ipython",
    "version": 3
   },
   "file_extension": ".py",
   "mimetype": "text/x-python",
   "name": "python",
   "nbconvert_exporter": "python",
   "pygments_lexer": "ipython3",
   "version": "3.6.9"
  }
 },
 "nbformat": 4,
 "nbformat_minor": 2
}
